{
 "cells": [
  {
   "cell_type": "code",
   "execution_count": null,
   "id": "e18a13a4-df47-4d7a-a060-7b7fd8fef3e1",
   "metadata": {},
   "outputs": [],
   "source": [
    "pip install JPype1"
   ]
  },
  {
   "cell_type": "code",
   "execution_count": 2,
   "id": "dc53a0a3-2fc1-4ec8-a433-eee0de86c40b",
   "metadata": {},
   "outputs": [
    {
     "name": "stdout",
     "output_type": "stream",
     "text": [
      "Defaulting to user installation because normal site-packages is not writeable\n",
      "Collecting konlpy\n",
      "  Downloading konlpy-0.6.0-py2.py3-none-any.whl.metadata (1.9 kB)\n",
      "Requirement already satisfied: JPype1>=0.7.0 in /home/j-j11a704/.local/lib/python3.10/site-packages (from konlpy) (1.5.0)\n",
      "Collecting lxml>=4.1.0 (from konlpy)\n",
      "  Downloading lxml-5.3.0-cp310-cp310-manylinux_2_28_x86_64.whl.metadata (3.8 kB)\n",
      "Requirement already satisfied: numpy>=1.6 in /opt/tljh/user/lib/python3.10/site-packages (from konlpy) (1.26.4)\n",
      "Requirement already satisfied: packaging in /opt/tljh/user/lib/python3.10/site-packages (from JPype1>=0.7.0->konlpy) (24.0)\n",
      "Downloading konlpy-0.6.0-py2.py3-none-any.whl (19.4 MB)\n",
      "\u001b[2K   \u001b[90m━━━━━━━━━━━━━━━━━━━━━━━━━━━━━━━━━━━━━━━━\u001b[0m \u001b[32m19.4/19.4 MB\u001b[0m \u001b[31m43.2 MB/s\u001b[0m eta \u001b[36m0:00:00\u001b[0m00:01\u001b[0m00:01\u001b[0m\n",
      "\u001b[?25hDownloading lxml-5.3.0-cp310-cp310-manylinux_2_28_x86_64.whl (5.0 MB)\n",
      "\u001b[2K   \u001b[90m━━━━━━━━━━━━━━━━━━━━━━━━━━━━━━━━━━━━━━━━\u001b[0m \u001b[32m5.0/5.0 MB\u001b[0m \u001b[31m74.6 MB/s\u001b[0m eta \u001b[36m0:00:00\u001b[0ma \u001b[36m0:00:01\u001b[0m\n",
      "\u001b[?25hInstalling collected packages: lxml, konlpy\n",
      "Successfully installed konlpy-0.6.0 lxml-5.3.0\n",
      "\n",
      "\u001b[1m[\u001b[0m\u001b[34;49mnotice\u001b[0m\u001b[1;39;49m]\u001b[0m\u001b[39;49m A new release of pip is available: \u001b[0m\u001b[31;49m24.0\u001b[0m\u001b[39;49m -> \u001b[0m\u001b[32;49m24.2\u001b[0m\n",
      "\u001b[1m[\u001b[0m\u001b[34;49mnotice\u001b[0m\u001b[1;39;49m]\u001b[0m\u001b[39;49m To update, run: \u001b[0m\u001b[32;49mpip install --upgrade pip\u001b[0m\n",
      "Note: you may need to restart the kernel to use updated packages.\n"
     ]
    }
   ],
   "source": [
    "pip install konlpy"
   ]
  },
  {
   "cell_type": "code",
   "execution_count": 4,
   "id": "960d7cb4-7ac3-4920-a9e8-7ab413ddf690",
   "metadata": {},
   "outputs": [],
   "source": [
    "import konlpy"
   ]
  },
  {
   "cell_type": "code",
   "execution_count": 5,
   "id": "eabb749d-4d99-45e9-b318-607b510ebcb1",
   "metadata": {},
   "outputs": [],
   "source": [
    "from konlpy.tag import Okt"
   ]
  },
  {
   "cell_type": "code",
   "execution_count": 6,
   "id": "81567301-a57d-4c27-a71f-bb8e0f2ef5d9",
   "metadata": {},
   "outputs": [],
   "source": [
    "okt = Okt()"
   ]
  },
  {
   "cell_type": "code",
   "execution_count": 7,
   "id": "c8d7182a-f764-49db-ad02-e6f8714cf338",
   "metadata": {},
   "outputs": [],
   "source": [
    "text = \"한글 자연어 처리를 해봅시다. 어간 추출이 과연 잘 될까요?\""
   ]
  },
  {
   "cell_type": "code",
   "execution_count": 8,
   "id": "d995cda5-12c3-4d3e-9ed7-3e97187f9d67",
   "metadata": {},
   "outputs": [
    {
     "name": "stdout",
     "output_type": "stream",
     "text": [
      "['한글', '자연어', '처리', '를', '해봅시다', '.', '어간', '추출', '이', '과연', '잘', '될까', '요', '?']\n"
     ]
    }
   ],
   "source": [
    "print(okt.morphs(text))"
   ]
  },
  {
   "cell_type": "code",
   "execution_count": 9,
   "id": "28400432-8d72-4dfd-a151-e9920dd7d185",
   "metadata": {},
   "outputs": [
    {
     "name": "stdout",
     "output_type": "stream",
     "text": [
      "['한글', '자연어', '처리', '를', '해보다', '.', '어간', '추출', '이', '과연', '자다', '되다', '요', '?']\n"
     ]
    }
   ],
   "source": [
    "print(okt.morphs(text, stem=True))"
   ]
  },
  {
   "cell_type": "code",
   "execution_count": 10,
   "id": "059f9c11-83c9-4c52-9651-9db5098fdd7c",
   "metadata": {},
   "outputs": [
    {
     "name": "stdout",
     "output_type": "stream",
     "text": [
      "['한글', '자연어', '처리', '어간', '추출', '과연', '요']\n"
     ]
    }
   ],
   "source": [
    "print(okt.nouns(text))"
   ]
  },
  {
   "cell_type": "code",
   "execution_count": 11,
   "id": "80a3ecc0-e2cf-4536-ac52-8fdc02b26acd",
   "metadata": {},
   "outputs": [
    {
     "name": "stdout",
     "output_type": "stream",
     "text": [
      "['한글', '한글 자연어', '한글 자연어 처리', '어간', '어간 추출', '과연', '자연어', '처리', '추출']\n"
     ]
    }
   ],
   "source": [
    "print(okt.phrases(text))"
   ]
  },
  {
   "cell_type": "code",
   "execution_count": 12,
   "id": "893f4472-7461-470e-a0a7-4929b40752e8",
   "metadata": {},
   "outputs": [
    {
     "name": "stdout",
     "output_type": "stream",
     "text": [
      "[('한글', 'Noun'), ('자연어', 'Noun'), ('처리', 'Noun'), ('를', 'Josa'), ('해봅시다', 'Verb'), ('.', 'Punctuation'), ('어간', 'Noun'), ('추출', 'Noun'), ('이', 'Josa'), ('과연', 'Noun'), ('잘', 'Verb'), ('될까', 'Verb'), ('요', 'Noun'), ('?', 'Punctuation')]\n"
     ]
    }
   ],
   "source": [
    "print(okt.pos(text))"
   ]
  },
  {
   "cell_type": "code",
   "execution_count": 13,
   "id": "f7c16d4c-158b-4542-875a-e6f851968d4d",
   "metadata": {},
   "outputs": [
    {
     "name": "stdout",
     "output_type": "stream",
     "text": [
      "['한글/Noun', '자연어/Noun', '처리/Noun', '를/Josa', '해봅시다/Verb', './Punctuation', '어간/Noun', '추출/Noun', '이/Josa', '과연/Noun', '잘/Verb', '될까/Verb', '요/Noun', '?/Punctuation']\n"
     ]
    }
   ],
   "source": [
    "print(okt.pos(text, join=True))"
   ]
  },
  {
   "cell_type": "code",
   "execution_count": null,
   "id": "be367f55-eb1b-4b4d-a546-4a93b4576c54",
   "metadata": {},
   "outputs": [],
   "source": []
  }
 ],
 "metadata": {
  "kernelspec": {
   "display_name": "Python 3 (ipykernel)",
   "language": "python",
   "name": "python3"
  },
  "language_info": {
   "codemirror_mode": {
    "name": "ipython",
    "version": 3
   },
   "file_extension": ".py",
   "mimetype": "text/x-python",
   "name": "python",
   "nbconvert_exporter": "python",
   "pygments_lexer": "ipython3",
   "version": "3.10.10"
  }
 },
 "nbformat": 4,
 "nbformat_minor": 5
}
