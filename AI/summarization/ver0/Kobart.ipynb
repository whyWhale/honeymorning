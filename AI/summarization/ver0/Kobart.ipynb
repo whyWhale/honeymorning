{
 "cells": [
  {
   "cell_type": "code",
   "execution_count": 1,
   "metadata": {},
   "outputs": [
    {
     "name": "stderr",
     "output_type": "stream",
     "text": [
      "c:\\Users\\SSAFY\\Desktop\\ssafy\\S11P21A704\\AI\\summarization\\kobart\\lib\\site-packages\\tqdm\\auto.py:21: TqdmWarning: IProgress not found. Please update jupyter and ipywidgets. See https://ipywidgets.readthedocs.io/en/stable/user_install.html\n",
      "  from .autonotebook import tqdm as notebook_tqdm\n"
     ]
    },
    {
     "name": "stdout",
     "output_type": "stream",
     "text": [
      "using cached model. c:\\Users\\SSAFY\\Desktop\\ssafy\\S11P21A704\\AI\\summarization\\.cache\\kobart_base_tokenizer_cased_cf74400bce.zip\n"
     ]
    },
    {
     "data": {
      "text/plain": [
       "['▁하이', '▁헬', '로', '우', '▁안녕']"
      ]
     },
     "execution_count": 1,
     "metadata": {},
     "output_type": "execute_result"
    }
   ],
   "source": [
    "from kobart import get_kobart_tokenizer\n",
    "\n",
    "kobart_tokenizer = get_kobart_tokenizer()\n",
    "kobart_tokenizer.tokenize(\"하이 헬로우 안녕\")"
   ]
  },
  {
   "cell_type": "code",
   "execution_count": 14,
   "metadata": {},
   "outputs": [
    {
     "name": "stdout",
     "output_type": "stream",
     "text": [
      "웨스팅하우스가 자사 지식재산권을 침해했다며 법적 대응에 나선 가운데 윤 대통령은 정상회담 후 공동기자회견 질의응답을 통해 “양국 정부는 원전 협력에 대한 확고한 공감대를 공유하고 있다”며 “우리 정부도 한미 기업간의 원만한 문제 해결을 지원하고 있다”고 밝혔다.\n"
     ]
    }
   ],
   "source": [
    "import torch\n",
    "from transformers import PreTrainedTokenizerFast\n",
    "from transformers import BartForConditionalGeneration\n",
    "\n",
    "tokenizer = PreTrainedTokenizerFast.from_pretrained('gogamza/kobart-summarization')\n",
    "model = BartForConditionalGeneration.from_pretrained('gogamza/kobart-summarization')\n",
    "\n",
    "text = \"\"\"\n",
    "앞서 웨스팅하우스는 ‘최신 한국형 원전’이 자사 지식재산권을 침해했다며 법적 대응에 나선 상태다.\n",
    "윤 대통령은 정상회담 후 공동기자회견 질의응답을 통해 “양국 정부는 원전 협력에 대한 확고한 공감대를 공유하고 있다”며 “우리 정부도 한미 기업간의 원만한 문제 해결을 지원하고 있다”고 밝혔다.\n",
    "또 “한수원은 체코 기업들의 참여를 보장하기 위한 다양한 방안 강구 중”이라며 “이 문제는 바라카 원전 때처럼 잘 해결될 수 있을 것으로 믿고 확신하고 있다”고 말했다.\n",
    "\"\"\"\n",
    "text = text.replace(\"\\n\", \" \")\n",
    "text = text.replace(\"\\\"\", \"\")\n",
    "raw_input_ids = tokenizer.encode(text)\n",
    "input_ids = [tokenizer.bos_token_id] + raw_input_ids + [tokenizer.eos_token_id]\n",
    "input_ids = torch.tensor([input_ids])\n",
    "summary_text_ids = model.generate(\n",
    "    input_ids = input_ids,\n",
    "    bos_token_id = model.config.bos_token_id,\n",
    "    eos_token_id = model.config.eos_token_id,\n",
    "    length_penalty=0.5, # 길이에 대한 penalty 값. 1보다 작은 경우 더 짧은 문장을 생성하도록 유도하며, 1보다 클 경우 길이가 더 긴 문장을 유도\n",
    "    max_length = 1024, # 요약문의 최대 길이 설정\n",
    "    min_length = 1, # 요약문의 최소 길이 설정\n",
    "    num_beams = 8) # 문장 생성 시 다음 단어를 탐색하는 영역의 개수\n",
    "print(tokenizer.decode(summary_text_ids[0], skip_special_tokens=True))"
   ]
  }
 ],
 "metadata": {
  "kernelspec": {
   "display_name": "base",
   "language": "python",
   "name": "python3"
  },
  "language_info": {
   "codemirror_mode": {
    "name": "ipython",
    "version": 3
   },
   "file_extension": ".py",
   "mimetype": "text/x-python",
   "name": "python",
   "nbconvert_exporter": "python",
   "pygments_lexer": "ipython3",
   "version": "3.8.6"
  }
 },
 "nbformat": 4,
 "nbformat_minor": 2
}
